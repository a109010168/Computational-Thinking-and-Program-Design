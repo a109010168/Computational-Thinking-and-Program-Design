{
  "nbformat": 4,
  "nbformat_minor": 0,
  "metadata": {
    "kernelspec": {
      "display_name": "Python 3",
      "language": "python",
      "name": "python3"
    },
    "language_info": {
      "codemirror_mode": {
        "name": "ipython",
        "version": 3
      },
      "file_extension": ".py",
      "mimetype": "text/x-python",
      "name": "python",
      "nbconvert_exporter": "python",
      "pygments_lexer": "ipython3",
      "version": "3.8.5"
    },
    "colab": {
      "name": "楊宸睿-Week13-作業練習.ipynb",
      "provenance": [],
      "include_colab_link": true
    }
  },
  "cells": [
    {
      "cell_type": "markdown",
      "metadata": {
        "id": "view-in-github",
        "colab_type": "text"
      },
      "source": [
        "<a href=\"https://colab.research.google.com/github/a109010168/Computational-Thinking-and-Program-Design/blob/main/%E6%A5%8A%E5%AE%B8%E7%9D%BF_Week13_%E4%BD%9C%E6%A5%AD%E7%B7%B4%E7%BF%92.ipynb\" target=\"_parent\"><img src=\"https://colab.research.google.com/assets/colab-badge.svg\" alt=\"Open In Colab\"/></a>"
      ]
    },
    {
      "cell_type": "markdown",
      "metadata": {
        "id": "tRDxe1bA38j8"
      },
      "source": [
        "**隨堂練習1： BMI 計算**\n",
        "\n",
        "請寫一個程式讓使用者輸入身高與體重，顯示BMI 值與肥胖程度。 BMI 等於體重（KG）除以身高（M）的平方，而BMI 與肥胖分類標準如下：\n",
        "\n",
        "若BMI 值小於18，則顯示「體重過輕」，否則若BMI 值小於24，則顯示「體重正常」，若BMI 值小於27，則顯示「體重過重」，否則顯示「體重肥胖」。"
      ]
    },
    {
      "cell_type": "code",
      "metadata": {
        "colab": {
          "base_uri": "https://localhost:8080/"
        },
        "id": "pi2W08Hy38kE",
        "outputId": "f4f92288-ec63-4a07-fc46-36c3b4af1de8"
      },
      "source": [
        "w=float(input('請輸入體重(KG)?'))\n",
        "h=float(input('請輸入身高(M)?'))\n",
        "bmi=w/(h*h)\n",
        "print('BMI為',bmi)\n",
        "if bmi < 18:\n",
        "  print('體重過輕')\n",
        "elif bmi < 24:\n",
        "  print('體重正常')\n",
        "elif bmi < 27:\n",
        "  print('體重過重')\n",
        "else:\n",
        "  print('體重肥胖')"
      ],
      "execution_count": null,
      "outputs": [
        {
          "output_type": "stream",
          "text": [
            "請輸入體重(KG)?65\n",
            "請輸入身高(M)?183\n",
            "BMI為 0.0019409358296754158\n",
            "體重過輕\n"
          ],
          "name": "stdout"
        }
      ]
    },
    {
      "cell_type": "markdown",
      "metadata": {
        "id": "YLGHcHBc38kF"
      },
      "source": [
        "**隨堂練習2： 三一律(單向選擇、雙向與巢狀選擇、多向選擇)**\n",
        "\n",
        "請輸入一個數，然後判斷這個數是正數、是負數或者是零。"
      ]
    },
    {
      "cell_type": "code",
      "metadata": {
        "colab": {
          "base_uri": "https://localhost:8080/"
        },
        "id": "VKjdipaC38kH",
        "outputId": "4f277f77-9aa7-4bd4-c480-427a6cc9e6fc"
      },
      "source": [
        "num1=int(input(\"number one?\"))\n",
        "num2=int(input(\"number two?\"))\n",
        "if num1 < 0:\n",
        "  print(\"Number one is negative.\")\n",
        "if num2 < 0:\n",
        "  print(\"Number two is negative.\")\n",
        "  print(\"Finished\")\n",
        "if num1 > 0:\n",
        "  print(\"Number one is positive.\")\n",
        "if num2 > 0:\n",
        "  print(\"Number two is positive.\")\n",
        "  print(\"Finished\")\n",
        "if num1 == 0:\n",
        "  print(\"Number one is zero\")  \n",
        "if num2 == 0:\n",
        "  print(\"Number two is zero\")\n",
        "  print(\"Finished\")"
      ],
      "execution_count": null,
      "outputs": [
        {
          "output_type": "stream",
          "text": [
            "number one?3\n",
            "number two?-4\n",
            "Number two is negative.\n",
            "Finished\n",
            "Number one is positive.\n"
          ],
          "name": "stdout"
        }
      ]
    },
    {
      "cell_type": "markdown",
      "metadata": {
        "id": "DRgY-3Lv38kH"
      },
      "source": [
        "**練習5   體溫與發燒**\n",
        "\n",
        "設計程式根據體溫判斷是否發燒，由使用者輸入體溫，程式判斷是否發燒，假設體溫小於36度，顯示「體溫過低」，體溫大於等於36度小於38度，顯示「體溫正常」，否則若體溫大於等於38度小於39度，顯示「體溫有點燒」，否則體溫大於等於39度，顯示「體溫很燒」。\n",
        "\n",
        "輸入體溫「36.5」，輸出為「體溫正常」。\n",
        "\n",
        "～程式執行結果如下。\n",
        "\n",
        "請輸入體溫？36.5\n",
        "\n",
        "體溫正常"
      ]
    },
    {
      "cell_type": "code",
      "metadata": {
        "colab": {
          "base_uri": "https://localhost:8080/"
        },
        "id": "7EMPw33c38kJ",
        "outputId": "32ecb360-e2d9-4edd-d9f9-5b25e3494870"
      },
      "source": [
        "body_temperature = int(input('請輸入體溫?'))\n",
        "if body_temperature < 36:\n",
        "  print('體溫過低')\n",
        "if  38 > body_temperature > 36:\n",
        "  print('體溫正常')\n",
        "if body_temperature > 39:\n",
        "  print('體溫很燒')\n",
        "if body_temperature == 36.5:\n",
        "  print('體溫正常')"
      ],
      "execution_count": 1,
      "outputs": [
        {
          "output_type": "stream",
          "text": [
            "請輸入體溫?40\n",
            "體溫很燒\n"
          ],
          "name": "stdout"
        }
      ]
    },
    {
      "cell_type": "markdown",
      "metadata": {
        "id": "B1rC8PAX38kI"
      },
      "source": [
        "**練習6  閏年判斷**\n",
        "\n",
        "設計程式允許輸入西元幾年，請求出該年是否是閏年，閏年表示該年多一天，若為4的倍數稱做閏年，但若為100的倍數就不為閏年，且若為400倍數又是閏年。(四年一潤、百年不潤、四百年再潤)\n",
        "\n",
        "輸入年份「2012」，輸出為「2012是閏年」。\n",
        "\n",
        "～程式執行結果如下。\n",
        "\n",
        "請輸入年份？2012\n",
        "\n",
        "2012 是閏年"
      ]
    },
    {
      "cell_type": "code",
      "metadata": {
        "colab": {
          "base_uri": "https://localhost:8080/"
        },
        "id": "NowF-q4gFuGL",
        "outputId": "babfae12-f1ee-4f8d-a766-fe589d1dfcf0"
      },
      "source": [
        "n=int(input('請輸入年分'))\n",
        "leap_year=n*4\n",
        "if leap_year==n*100:\n",
        "  print(\"不是閏年\")\n",
        "leap_year=n*400\n",
        "if leap_year==n*4:\n",
        "  print(\"是閏年\")\n",
        "if leap_year==n*400:\n",
        "  print(\"是閏年\")"
      ],
      "execution_count": null,
      "outputs": [
        {
          "output_type": "stream",
          "text": [
            "請輸入年分9827916\n",
            "是閏年\n"
          ],
          "name": "stdout"
        }
      ]
    },
    {
      "cell_type": "markdown",
      "metadata": {
        "id": "8X7SHe-Q38kJ"
      },
      "source": [
        "**練習12：計程車計費**\n",
        "\n",
        "某城市計程車計費3公里以內6元，超過3公里不足10公里、每公里1.8元，超過10公里則超過部分加收50%。此外停車等候每3分鐘收1元，請用Python寫出車費是多少。"
      ]
    },
    {
      "cell_type": "code",
      "metadata": {
        "colab": {
          "base_uri": "https://localhost:8080/"
        },
        "id": "WIEV729w38kK",
        "outputId": "09ec7a1b-f400-473f-fa2e-10e5ead29499"
      },
      "source": [
        "n=int(input('請問計程車總共開了幾公里呢?'))\n",
        "if n < 3:\n",
        "  print('總共是6元')\n",
        "if 10 > n > 3:\n",
        "  print(n*1.8)\n",
        "if n > 10:\n",
        "  print(18+(n-10)*0.5)\n",
        "\n"
      ],
      "execution_count": 13,
      "outputs": [
        {
          "output_type": "stream",
          "text": [
            "請問計程車總共開了幾公里呢?30\n",
            "28.0\n"
          ],
          "name": "stdout"
        }
      ]
    },
    {
      "cell_type": "code",
      "metadata": {
        "id": "tplAoVJx38kK"
      },
      "source": [
        ""
      ],
      "execution_count": null,
      "outputs": []
    }
  ]
}