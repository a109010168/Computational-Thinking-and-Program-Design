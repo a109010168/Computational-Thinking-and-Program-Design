{
  "nbformat": 4,
  "nbformat_minor": 0,
  "metadata": {
    "colab": {
      "name": "楊宸睿-week8.ipynb",
      "provenance": [],
      "authorship_tag": "ABX9TyM0WFiFplT1C8B34ZwZIjJL",
      "include_colab_link": true
    },
    "kernelspec": {
      "name": "python3",
      "display_name": "Python 3"
    },
    "language_info": {
      "name": "python"
    }
  },
  "cells": [
    {
      "cell_type": "markdown",
      "metadata": {
        "id": "view-in-github",
        "colab_type": "text"
      },
      "source": [
        "<a href=\"https://colab.research.google.com/github/a109010168/Computational-Thinking-and-Program-Design/blob/main/%E6%A5%8A%E5%AE%B8%E7%9D%BF_week8.ipynb\" target=\"_parent\"><img src=\"https://colab.research.google.com/assets/colab-badge.svg\" alt=\"Open In Colab\"/></a>"
      ]
    },
    {
      "cell_type": "code",
      "metadata": {
        "colab": {
          "base_uri": "https://localhost:8080/"
        },
        "id": "OGljODCqxYhC",
        "outputId": "c659cbd1-8df6-4a55-b434-4f2526148306"
      },
      "source": [
        "player_name=input(\"請輸入球員名字\")\n",
        "player_height=input(\"請輸入球員身高\")\n",
        "player_weight=input(\"請輸入球員體重\")\n",
        "player_height=float(player_height)\n",
        "player_weight=float(player_weight)\n",
        "player_bmi=player_weight/(player_height*0.01)**2\n",
        "print(\"{}的身體質量指數為: {:.2f}\".format(player_name,player_bmi))\n",
        "print(player_name,'的身體質量指數為',player_bmi)\n"
      ],
      "execution_count": 7,
      "outputs": [
        {
          "output_type": "stream",
          "text": [
            "請輸入球員名字feqgv\n",
            "請輸入球員身高216\n",
            "請輸入球員體重147\n",
            "feqgv的身體質量指數為: 31.51\n",
            "feqgv 的身體質量指數為 31.507201646090532\n"
          ],
          "name": "stdout"
        }
      ]
    },
    {
      "cell_type": "code",
      "metadata": {
        "colab": {
          "base_uri": "https://localhost:8080/"
        },
        "id": "uAhSBWW9114i",
        "outputId": "27e12689-988d-48ea-f836-b0b8e7c7bee6"
      },
      "source": [
        "##https://www.imdb.com/title/tt9770150/?pf_rd_m=A2FGELUUNOQJNL&pf_rd_p=ea4e08e1-c8a3-47b5-ac3a-75026647c16e&pf_rd_r=QAK1QNQW3ZC6B2SSBA3Q&pf_rd_s=center-1&pf_rd_t=15506&pf_rd_i=moviemeter&ref_=chtmvm_tt_6\n",
        "movie_title=\"nomadland\"\n",
        "release_year=\"2020\"\n",
        "movie_time_min=107\n",
        "movie_rating=7.4\n",
        "director=\"Chloé Zhao\"\n",
        "star_1=\"Frances McDormand\"\n",
        "star_2=\"David Strathairn\"\n",
        "star_3=\"Linda May\"\n",
        "like=5\n",
        "print(movie_title)\n",
        "print(movie_time_min)\n",
        "print(movie_rating)"
      ],
      "execution_count": 10,
      "outputs": [
        {
          "output_type": "stream",
          "text": [
            "nomadland\n",
            "107\n",
            "7.4\n"
          ],
          "name": "stdout"
        }
      ]
    },
    {
      "cell_type": "code",
      "metadata": {
        "colab": {
          "base_uri": "https://localhost:8080/"
        },
        "id": "M7MY320t39ax",
        "outputId": "4933d247-985b-4bde-f657-63c6302623bf"
      },
      "source": [
        "time=654\n",
        "hours=time/60\n",
        "hours1=int(hours)\n",
        "minutes=hours1-hours\n",
        "minutes1=round(minutes*60)\n",
        "print(time,\"is equal to\",hours1,\"hours and\",minutes1,\"minutes\")"
      ],
      "execution_count": 11,
      "outputs": [
        {
          "output_type": "stream",
          "text": [
            "654 is equal to 10 hours and -54 minutes\n"
          ],
          "name": "stdout"
        }
      ]
    }
  ]
}