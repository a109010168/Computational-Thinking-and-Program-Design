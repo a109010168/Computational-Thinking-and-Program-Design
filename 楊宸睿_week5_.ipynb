{
  "nbformat": 4,
  "nbformat_minor": 0,
  "metadata": {
    "colab": {
      "name": "楊宸睿-week5-.ipynb",
      "provenance": [],
      "authorship_tag": "ABX9TyMLMq1LbX8ZtOCkpHSFYJCA",
      "include_colab_link": true
    },
    "kernelspec": {
      "name": "python3",
      "display_name": "Python 3"
    }
  },
  "cells": [
    {
      "cell_type": "markdown",
      "metadata": {
        "id": "view-in-github",
        "colab_type": "text"
      },
      "source": [
        "<a href=\"https://colab.research.google.com/github/a109010168/Computational-Thinking-and-Program-Design/blob/main/%E6%A5%8A%E5%AE%B8%E7%9D%BF_week5_.ipynb\" target=\"_parent\"><img src=\"https://colab.research.google.com/assets/colab-badge.svg\" alt=\"Open In Colab\"/></a>"
      ]
    },
    {
      "cell_type": "markdown",
      "metadata": {
        "id": "C9uTgskZXZ96"
      },
      "source": [
        "隨堂練習"
      ]
    },
    {
      "cell_type": "code",
      "metadata": {
        "id": "JQ3pld9gXbSy",
        "colab": {
          "base_uri": "https://localhost:8080/"
        },
        "outputId": "ff320774-3a64-4f69-858e-f7ebe5d1b980"
      },
      "source": [
        "hello_py1='hello python'\n",
        "print(hello_py1)"
      ],
      "execution_count": 2,
      "outputs": [
        {
          "output_type": "stream",
          "text": [
            "hello python\n"
          ],
          "name": "stdout"
        }
      ]
    },
    {
      "cell_type": "code",
      "metadata": {
        "colab": {
          "base_uri": "https://localhost:8080/"
        },
        "id": "nl1kBISAWG99",
        "outputId": "6a1e4910-74ce-48b6-ea73-9144103cd79e"
      },
      "source": [
        "hello_py2=\"hello python!\"\n",
        "print(hello_py2)"
      ],
      "execution_count": 3,
      "outputs": [
        {
          "output_type": "stream",
          "text": [
            "hello python!\n"
          ],
          "name": "stdout"
        }
      ]
    },
    {
      "cell_type": "code",
      "metadata": {
        "colab": {
          "base_uri": "https://localhost:8080/"
        },
        "id": "FkiUYl0jW_9F",
        "outputId": "3459f4ec-8507-4b4e-913f-a58158cea105"
      },
      "source": [
        "name='007'\n",
        "print(f'hello,{name}')"
      ],
      "execution_count": 8,
      "outputs": [
        {
          "output_type": "stream",
          "text": [
            "hello,007\n"
          ],
          "name": "stdout"
        }
      ]
    },
    {
      "cell_type": "code",
      "metadata": {
        "colab": {
          "base_uri": "https://localhost:8080/"
        },
        "id": "0hkJWbtpXe1D",
        "outputId": "0bd15ea6-92bd-47c3-c8dd-9ce6d11324ff"
      },
      "source": [
        "print('my name is francis. I was born in 2000')"
      ],
      "execution_count": 9,
      "outputs": [
        {
          "output_type": "stream",
          "text": [
            "my name is francis. I was born in 2000\n"
          ],
          "name": "stdout"
        }
      ]
    },
    {
      "cell_type": "code",
      "metadata": {
        "colab": {
          "base_uri": "https://localhost:8080/"
        },
        "id": "ZtbVOHaSYX0h",
        "outputId": "0158a6cf-dc6a-4eb1-a4aa-f7d6fed14528"
      },
      "source": [
        "name='francis'\n",
        "year=2000\n",
        "print(f'my name is {name}. I was born in {year}')"
      ],
      "execution_count": 13,
      "outputs": [
        {
          "output_type": "stream",
          "text": [
            "my name is francis. I was born in 2000\n"
          ],
          "name": "stdout"
        }
      ]
    },
    {
      "cell_type": "code",
      "metadata": {
        "colab": {
          "base_uri": "https://localhost:8080/"
        },
        "id": "j-VhUTkHYvhU",
        "outputId": "cf775f77-52f7-42b5-a136-5b8840f81d16"
      },
      "source": [
        "kind_of_liquor='whiskey'\n",
        "verb1='numb'\n",
        "verb2='vomited'\n",
        "adv='less'\n",
        "silly_story=f'''\n",
        "I don't like to drink {kind_of_liquor},but I need it to {verb1} myself sometimes.\n",
        "I have drunk and {verb2} many times,and done something stupid.\n",
        "After considering,I decided to drink more {adv}.'''\n",
        "print(silly_story)\n",
        "\n"
      ],
      "execution_count": 21,
      "outputs": [
        {
          "output_type": "stream",
          "text": [
            "\n",
            "I don't like to drink whiskey,but I need it to numb myself sometimes.\n",
            "I have drunk and vomited many times,and done something stupid.\n",
            "After considering,I decided to drink more less.\n"
          ],
          "name": "stdout"
        }
      ]
    },
    {
      "cell_type": "code",
      "metadata": {
        "colab": {
          "base_uri": "https://localhost:8080/"
        },
        "id": "2at6nvPVdOAf",
        "outputId": "c84affd7-cc6a-4bde-c90f-3c2777725527"
      },
      "source": [
        "print(5+8)"
      ],
      "execution_count": 22,
      "outputs": [
        {
          "output_type": "stream",
          "text": [
            "13\n"
          ],
          "name": "stdout"
        }
      ]
    },
    {
      "cell_type": "code",
      "metadata": {
        "colab": {
          "base_uri": "https://localhost:8080/"
        },
        "id": "aikO33vDeR1c",
        "outputId": "292d443c-28b3-479f-eda8-c1bc5e196d1b"
      },
      "source": [
        "print(6/3)"
      ],
      "execution_count": 23,
      "outputs": [
        {
          "output_type": "stream",
          "text": [
            "2.0\n"
          ],
          "name": "stdout"
        }
      ]
    },
    {
      "cell_type": "code",
      "metadata": {
        "colab": {
          "base_uri": "https://localhost:8080/"
        },
        "id": "xpPeENCPeYim",
        "outputId": "19808d9a-ae18-4cd7-ed66-288f6a8e6b76"
      },
      "source": [
        "print(3*9)"
      ],
      "execution_count": 24,
      "outputs": [
        {
          "output_type": "stream",
          "text": [
            "27\n"
          ],
          "name": "stdout"
        }
      ]
    },
    {
      "cell_type": "code",
      "metadata": {
        "colab": {
          "base_uri": "https://localhost:8080/"
        },
        "id": "vfGuKy0feceS",
        "outputId": "725f20da-1d0f-4a4b-89ed-7ab3b3bc6893"
      },
      "source": [
        "print(3**3)"
      ],
      "execution_count": 25,
      "outputs": [
        {
          "output_type": "stream",
          "text": [
            "27\n"
          ],
          "name": "stdout"
        }
      ]
    },
    {
      "cell_type": "code",
      "metadata": {
        "colab": {
          "base_uri": "https://localhost:8080/"
        },
        "id": "y4701LEIefzk",
        "outputId": "8dc251bd-2854-4439-cf36-3564d8c2edbf"
      },
      "source": [
        "print(2//1)"
      ],
      "execution_count": 26,
      "outputs": [
        {
          "output_type": "stream",
          "text": [
            "2\n"
          ],
          "name": "stdout"
        }
      ]
    },
    {
      "cell_type": "code",
      "metadata": {
        "colab": {
          "base_uri": "https://localhost:8080/"
        },
        "id": "aO69izZLemc1",
        "outputId": "5275ced9-3069-4354-e1d8-46613c56ff69"
      },
      "source": [
        "print(5%3)"
      ],
      "execution_count": 27,
      "outputs": [
        {
          "output_type": "stream",
          "text": [
            "2\n"
          ],
          "name": "stdout"
        }
      ]
    },
    {
      "cell_type": "code",
      "metadata": {
        "id": "Zo9NNL47es8Y"
      },
      "source": [
        ""
      ],
      "execution_count": null,
      "outputs": []
    }
  ]
}