{
  "nbformat": 4,
  "nbformat_minor": 0,
  "metadata": {
    "colab": {
      "name": "楊宸睿-week3-.ipynb",
      "provenance": [],
      "authorship_tag": "ABX9TyNkvlbzduG+7g4sztbDn151",
      "include_colab_link": true
    },
    "kernelspec": {
      "name": "python3",
      "display_name": "Python 3"
    }
  },
  "cells": [
    {
      "cell_type": "markdown",
      "metadata": {
        "id": "view-in-github",
        "colab_type": "text"
      },
      "source": [
        "<a href=\"https://colab.research.google.com/github/a109010168/Computational-Thinking-and-Program-Design/blob/main/%E6%A5%8A%E5%AE%B8%E7%9D%BF_week3_.ipynb\" target=\"_parent\"><img src=\"https://colab.research.google.com/assets/colab-badge.svg\" alt=\"Open In Colab\"/></a>"
      ]
    },
    {
      "cell_type": "markdown",
      "metadata": {
        "id": "j_z01PU4NK_K"
      },
      "source": [
        "#隨堂練習"
      ]
    },
    {
      "cell_type": "markdown",
      "metadata": {
        "id": "7FugpmZjO503"
      },
      "source": [
        ""
      ]
    },
    {
      "cell_type": "markdown",
      "metadata": {
        "id": "HUdEQ8j2OSZg"
      },
      "source": [
        "#課後練習"
      ]
    },
    {
      "cell_type": "markdown",
      "metadata": {
        "id": "Ju5wREdXTTbq"
      },
      "source": [
        "史丹佛大學人文科學院院長沙勒說:史丹佛要培養結合人文價值與科技人才,這意味著面臨現今社會資訊洪流的趨勢,學生不能夠只有人文涵養,更需要學習電腦科技使其個人能力更加完善.學習電腦語言等於多了一種能與世界溝通的方式,不同國家的人們也可透過程式語言理解彼此.在學習如何作為一個好記者的同時,拓寬自己的視野,踏出人文舒適圈,甚至最後還能使用科技為資訊媒體領域做出特殊貢獻,我想作為一個媒體人這是再好不過的事情了."
      ]
    },
    {
      "cell_type": "markdown",
      "metadata": {
        "id": "ZK7PV9tjOZH5"
      },
      "source": [
        "對新聞系（OO系）學生為什麼要學「運算思維與程式設計」的見解。"
      ]
    },
    {
      "cell_type": "markdown",
      "metadata": {
        "id": "RFN5rEdxS8Vq"
      },
      "source": [
        "資訊來源:史丹佛　九成學生都會CS 天下雜誌"
      ]
    }
  ]
}