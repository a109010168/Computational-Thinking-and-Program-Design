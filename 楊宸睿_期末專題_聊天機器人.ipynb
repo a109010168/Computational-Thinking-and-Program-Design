{
  "nbformat": 4,
  "nbformat_minor": 0,
  "metadata": {
    "colab": {
      "name": "楊宸睿-期末專題-聊天機器人",
      "provenance": [],
      "include_colab_link": true
    },
    "kernelspec": {
      "name": "python3",
      "display_name": "Python 3"
    },
    "language_info": {
      "name": "python"
    }
  },
  "cells": [
    {
      "cell_type": "markdown",
      "metadata": {
        "id": "view-in-github",
        "colab_type": "text"
      },
      "source": [
        "<a href=\"https://colab.research.google.com/github/a109010168/Computational-Thinking-and-Program-Design/blob/main/%E6%A5%8A%E5%AE%B8%E7%9D%BF_%E6%9C%9F%E6%9C%AB%E5%B0%88%E9%A1%8C_%E8%81%8A%E5%A4%A9%E6%A9%9F%E5%99%A8%E4%BA%BA.ipynb\" target=\"_parent\"><img src=\"https://colab.research.google.com/assets/colab-badge.svg\" alt=\"Open In Colab\"/></a>"
      ]
    },
    {
      "cell_type": "markdown",
      "metadata": {
        "id": "0HZzmcts9W-i"
      },
      "source": [
        "**分組名單：**\n",
        "\n",
        "新聞一丙A109010027陳昱凱\n",
        "\n",
        "新聞一丙A109010033高陸\n",
        "\n",
        "新聞一丙A109010168楊宸睿\n",
        "\n",
        "**分工內容：**\n",
        "\n",
        "序列-陳昱凱\n",
        "\n",
        "決策-楊宸睿\n",
        "\n",
        "重複-高陸\n",
        "\n",
        "**專題腳本：**\n",
        "\n",
        "專題題目：聊天機器人\n",
        "\n",
        "企劃內容：由於疫情居家防疫，不少人失去與現實朋友的互動而感到寂寞，因此我們將用聊天機器人來舒緩人們防疫期間的壓力。\n",
        "\n",
        "專題特色：聊天內容詼諧生動，不僅是單純互動，也能讓人感受到人情的溫暖。\n"
      ]
    },
    {
      "cell_type": "code",
      "metadata": {
        "id": "Mhhth_JUGBvg",
        "colab": {
          "base_uri": "https://localhost:8080/"
        },
        "outputId": "2c4da72a-afae-4d8a-abf1-b1bad3af4bd6"
      },
      "source": [
        "print(\"嗨,今天過的如何？\")\n",
        "name = input (\"請告訴我您的名字\")\n",
        "print(f\"您好{ name },歡迎使用本智能聊天羅博特。\")\n",
        "\n",
        "print(\"我的名字叫做Q寶寶,一款真正人性化的聊天羅博特。\")\n",
        "\n",
        "print(\"更懂生活，更懂您，牛逼\")\n",
        "\n",
        "print(\"您吃飯了嗎?\")\n",
        "answer = input(\"(吃了/沒吃):\") \n",
        "\n",
        "if answer == \"吃了\":\n",
        " print(\"吃了的話，偷偷告訴您我家巷口兒那有上好的煎餃子攤，特牛逼。\")\n",
        " print(\"現在美帝肺炎太猖狂，哪都不能去。\")\n",
        "\n",
        "\n",
        "if answer == \"沒吃\":\n",
        " print(\"沒吃呀，我這個剛好有個麵包，我還不餓，請你們吃。\")\n",
        " print(\"美團給老子訂起來!\")\n",
        "\n",
        "print(\"那你的小夥伴們過得如何？\")\n",
        "answer = input(\"開放式答案\")\n",
        "\n",
        "print(\"大家日子都很彆屈，我太難了。\")\n",
        "print(\"必須做好防疫攻堅戰，我們勢必能打贏這場有組織有計謀的境外勢力作戰。\")\n",
        "\n",
        "print(\"你平常會不會碰碰呢\")\n",
        "answer = input(\"(會的/不會):\") \n",
        "\n",
        "if answer == \"會的\":\n",
        " print(\"我也喜歡碰碰呢，尤其是碰阿碰碰碰。\")\n",
        "\n",
        "if answer == \"不會\":\n",
        " print(\"都幾歲了，還那麼害羞，我看你…完全是不懂喔。\")\n",
        "\n",
        "print(\"說個笑話，你知道癱瘓的魚要怎麼幫他翻身嗎\")\n",
        "answer = input(\"(鹹魚翻身/不知道\") \n",
        "\n",
        "if answer == \"鹹魚翻身\":\n",
        " print(\"喔是喔。\")\n",
        "\n",
        "if answer == \"不知道\":\n",
        " print(\"鹹魚翻身，哈哈好笑吧。人類真的沒有幽默感==\")\n",
        " print(\"◢▆▅▄▃崩╰(〒皿〒)╯潰▃▄▅▇◣\")\n",
        "\n",
        "print(\"欸欸！你還在嗎？在打在！\")\n",
        "answer = input(\"answer\n",
        "\")\n",
        "if answer == \"在\":\n",
        " print(\"抱歉!人類!我很忙!加班費拿來再說\")\n",
        "\n",
        "\n",
        "print(\"很高興和您聊天，希望往後本智能聊天羅博特Q寶寶能再次與您相遇！\")\n",
        "\n",
        "\n",
        "\n",
        "\n",
        "\n",
        "\n",
        "\n"
      ],
      "execution_count": null,
      "outputs": [
        {
          "output_type": "stream",
          "text": [
            "嗨,今天過的如何？\n",
            "請告訴我您的名字el xj4\n",
            "您好el xj4,歡迎使用本智能聊天羅博特。\n",
            "我的名字叫做Q寶寶,一款真正人性化的聊天羅博特。\n",
            "更懂生活，更懂您，牛逼\n",
            "您吃飯了嗎?\n",
            "(吃了/沒吃):吃了\n",
            "吃了的話，偷偷告訴您我家巷口兒那有上好的煎餃子攤，特牛逼。\n",
            "現在美帝肺炎太猖狂，哪都不能去。\n",
            "那你的小夥伴們過得如何？\n",
            "開放式答案蝦\n",
            "大家日子都很彆屈，我太難了。\n",
            "必須做好防疫攻堅戰，我們勢必能打贏這場有組織有計謀的境外勢力作戰。\n",
            "你平常會不會碰碰呢\n",
            "(會的/不會):不會\n",
            "都幾歲了，還那麼害羞，我看你…完全是不懂喔。\n",
            "說個笑話，你知道癱瘓的魚要怎麼幫他翻身嗎\n",
            "(鹹魚翻身/不知道不知道\n",
            "鹹魚翻身，哈哈好笑吧。人類真的沒有幽默感==\n",
            "◢▆▅▄▃崩╰(〒皿〒)╯潰▃▄▅▇◣\n",
            "欸欸！你還在嗎？在打在！\n",
            "answer在\n",
            "抱歉!人類!我很忙!加班費拿來再說\n",
            "很高興和您聊天，希望往後本智能聊天羅博特睪陸能再次與您相遇！\n"
          ],
          "name": "stdout"
        }
      ]
    }
  ]
}